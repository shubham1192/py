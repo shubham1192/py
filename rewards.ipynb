{
 "cells": [
  {
   "cell_type": "code",
   "execution_count": 2,
   "id": "5b008b2c",
   "metadata": {},
   "outputs": [],
   "source": [
    "l=[12,13,45,56]"
   ]
  },
  {
   "cell_type": "code",
   "execution_count": 8,
   "id": "8378ffb0",
   "metadata": {},
   "outputs": [
    {
     "name": "stdout",
     "output_type": "stream",
     "text": [
      "45\n",
      "56\n"
     ]
    }
   ],
   "source": [
    "for i in range(2,len(l)):\n",
    "    print(l[i])"
   ]
  },
  {
   "cell_type": "code",
   "execution_count": 39,
   "id": "6962736e",
   "metadata": {},
   "outputs": [],
   "source": [
    "def max_satisfaction(expectations, cards):\n",
    "    expectations.sort()\n",
    "    cards.sort()\n",
    "    print(expectations)\n",
    "    print(cards)\n",
    "    p1=0\n",
    "    p2=0\n",
    "    op=0\n",
    "    offset=0\n",
    "    for i in range(len(expectations)):\n",
    "        for j in range(offset,len(cards)):\n",
    "            if expectations[i]<=cards[j]:\n",
    "                op=op+1\n",
    "                offset=j\n",
    "                break\n",
    "    print(op)"
   ]
  },
  {
   "cell_type": "code",
   "execution_count": 40,
   "id": "38234036",
   "metadata": {},
   "outputs": [
    {
     "name": "stdout",
     "output_type": "stream",
     "text": [
      "[1, 2, 3]\n",
      "[1, 1]\n",
      "1\n"
     ]
    }
   ],
   "source": [
    "expectations=[1,2,3]\n",
    "\n",
    "cards=[1,1]\n",
    "max_satisfaction(expectations,cards)"
   ]
  }
 ],
 "metadata": {
  "kernelspec": {
   "display_name": "Python 3",
   "language": "python",
   "name": "python3"
  },
  "language_info": {
   "codemirror_mode": {
    "name": "ipython",
    "version": 3
   },
   "file_extension": ".py",
   "mimetype": "text/x-python",
   "name": "python",
   "nbconvert_exporter": "python",
   "pygments_lexer": "ipython3",
   "version": "3.9.6"
  }
 },
 "nbformat": 4,
 "nbformat_minor": 5
}
